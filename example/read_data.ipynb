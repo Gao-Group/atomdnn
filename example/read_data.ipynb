{
 "cells": [
  {
   "cell_type": "code",
   "execution_count": 1,
   "metadata": {},
   "outputs": [],
   "source": [
    "import numpy as np\n",
    "import tensorflow as tf\n",
    "import atomdnn\n",
    "from atomdnn import data\n",
    "from atomdnn import network\n",
    "from atomdnn.data import *\n",
    "from atomdnn.network import Network"
   ]
  },
  {
   "cell_type": "markdown",
   "metadata": {},
   "source": [
    "# Creat Data object and reead inputdata from LAMMPS dump files\n",
    "\n",
    "### read inputdata function:\n",
    "\n",
    "### read_inputdata (fp_filename=None, der_filename=None, image_num=None,            read_der=TFAtomDNN.compute_force)\n",
    "\n",
    "- **fp_filename**: fingerprints file path, use wildcard * in the name for a serials of files.\n",
    "\n",
    "- **fp_filename**: derivatives file name, use wildcard * in the name for a serials of files.\n",
    "\n",
    "- **image_num**: if not set, read all images\n",
    "\n",
    "- **read_der**: set to true if read derivative data\n",
    "\n",
    "\n",
    "It will generate input data in the form of tensorflow tensors, which can be accessed using keys:\n",
    "\n",
    "- **input_dict [ 'fingerprints' ] [ i ] [ j ] [ k ]** gives the k-th fingerprint of j-th atom in i-th image.\n",
    "    \n",
    "- **input_dict [ 'atom_type' ] [ i ] [ j ]** gives the atom type of j-th atom in i-th image.\n",
    "    \n",
    "- **input_dict [ 'dGdr' ] [ i ] [ j ] [ k ] [ m ]** gives the derivative of k-th fingerprint in j-th derivative data blcok of i-th image w.r.t m-th cooridinate.\n",
    "    \n",
    "- **input_dict [ 'center_atom_id' ] [ i ] [ j ]** gives the center atom id in j-th derivative data block of i-th image.\n",
    "    \n",
    "- **input_dict [ 'neighbor_atom_id' ] [ i ] [ j ]** gives the neighbor atom id in j-th derivative data block of i-th image. Note that the neighbors could be ghost atoms.\n",
    "    \n",
    "- **input_dict [ 'neighbor_atom_coord' ] [ i ] [ j ] [ m ] [ 0 ]** gives the m-th coordiate of neighbor atom in j-th derivative block of i-th image. Note that the last dimension of the array is 1 which is added for matrix multiplication in neural network force_stress_layer. "
   ]
  },
  {
   "cell_type": "code",
   "execution_count": 2,
   "metadata": {},
   "outputs": [],
   "source": [
    "grdata = Data()"
   ]
  },
  {
   "cell_type": "code",
   "execution_count": 3,
   "metadata": {},
   "outputs": [
    {
     "name": "stdout",
     "output_type": "stream",
     "text": [
      "\n",
      "Reading fingerprints data from LAMMPS dump files /workspace/data/group_share/data_graphene_ase/deform/dump_fp.i\n",
      "  so far read 50 images ...\n",
      "  so far read 100 images ...\n",
      "  so far read 150 images ...\n",
      "  so far read 200 images ...\n",
      "  so far read 250 images ...\n",
      "  so far read 300 images ...\n",
      "  Finish reading fingerprints from total 300 images.\n",
      "\n",
      "  image number = 300\n",
      "  max number of atom = 24\n",
      "  number of fingerprints = 59\n",
      "  type of atoms = 1\n",
      "\n",
      "Reading derivative data from a series of files /workspace/data/group_share/data_graphene_ase/deform/dump_der.i\n",
      "This may take a while ...\n",
      "  so far read 50 images ...\n",
      "  so far read 100 images ...\n",
      "  so far read 150 images ...\n",
      "  so far read 200 images ...\n",
      "  so far read 250 images ...\n",
      "  so far read 300 images ...\n",
      "  Finish reading dGdr derivatives from total 300 images.\n",
      "\n",
      "  Pad zeros to derivatives data if needed ...\n",
      "  so far paded 50 images ...\n",
      "  so far paded 100 images ...\n",
      "  so far paded 150 images ...\n",
      "  so far paded 200 images ...\n",
      "  so far paded 250 images ...\n",
      "  Pading finished: 299 images derivatives have been padded with zeros.\n",
      "\n",
      "  image number = 300\n",
      "  max number of blocks = 1458\n",
      "  number of fingerprints = 59\n",
      "\n",
      "  It took 69.49 seconds to read the derivatives data.\n"
     ]
    }
   ],
   "source": [
    "fp_filename = '/workspace/data/group_share/data_graphene_ase/deform/dump_fp.*'\n",
    "der_filename = '/workspace/data/group_share/data_graphene_ase/deform/dump_der.*'\n",
    "grdata.read_inputdata(fp_filename=fp_filename,der_filename=der_filename)"
   ]
  },
  {
   "cell_type": "code",
   "execution_count": 4,
   "metadata": {},
   "outputs": [
    {
     "name": "stdout",
     "output_type": "stream",
     "text": [
      "\n",
      "Reading fingerprints data from LAMMPS dump files /workspace/data/group_share/data_graphene_ase/move/dump_fp.i\n",
      "  so far read 350 images ...\n",
      "  so far read 400 images ...\n",
      "  so far read 450 images ...\n",
      "  so far read 500 images ...\n",
      "  so far read 550 images ...\n",
      "  so far read 600 images ...\n",
      "  so far read 650 images ...\n",
      "  so far read 700 images ...\n",
      "  so far read 750 images ...\n",
      "  so far read 800 images ...\n",
      "  so far read 850 images ...\n",
      "  so far read 900 images ...\n",
      "  Finish reading fingerprints from total 900 images.\n",
      "\n",
      "  image number = 900\n",
      "  max number of atom = 24\n",
      "  number of fingerprints = 59\n",
      "  type of atoms = 1\n",
      "\n",
      "Reading derivative data from a series of files /workspace/data/group_share/data_graphene_ase/move/dump_der.i\n",
      "This may take a while ...\n",
      "  so far read 350 images ...\n",
      "  so far read 400 images ...\n",
      "  so far read 450 images ...\n",
      "  so far read 500 images ...\n",
      "  so far read 550 images ...\n",
      "  so far read 600 images ...\n",
      "  so far read 650 images ...\n",
      "  so far read 700 images ...\n",
      "  so far read 750 images ...\n",
      "  so far read 800 images ...\n",
      "  so far read 850 images ...\n",
      "  so far read 900 images ...\n",
      "  Finish reading dGdr derivatives from total 900 images.\n",
      "\n",
      "  Pad zeros to derivatives data if needed ...\n",
      "  so far paded 50 images ...\n",
      "  so far paded 100 images ...\n",
      "  so far paded 150 images ...\n",
      "  so far paded 200 images ...\n",
      "  so far paded 250 images ...\n",
      "  so far paded 300 images ...\n",
      "  so far paded 350 images ...\n",
      "  so far paded 400 images ...\n",
      "  so far paded 450 images ...\n",
      "  so far paded 500 images ...\n",
      "  so far paded 550 images ...\n",
      "  so far paded 600 images ...\n",
      "  Pading finished: 600 images derivatives have been padded with zeros.\n",
      "\n",
      "  image number = 900\n",
      "  max number of blocks = 1458\n",
      "  number of fingerprints = 59\n",
      "\n",
      "  It took 177.55 seconds to read the derivatives data.\n"
     ]
    }
   ],
   "source": [
    "fp_filename = '/workspace/data/group_share/data_graphene_ase/move/dump_fp.*'\n",
    "der_filename = '/workspace/data/group_share/data_graphene_ase/move/dump_der.*'\n",
    "grdata.read_inputdata(fp_filename=fp_filename,der_filename=der_filename,append=True)"
   ]
  },
  {
   "cell_type": "markdown",
   "metadata": {},
   "source": [
    "# Read output data genrated using LAMMPS"
   ]
  },
  {
   "cell_type": "code",
   "execution_count": 5,
   "metadata": {},
   "outputs": [
    {
     "name": "stdout",
     "output_type": "stream",
     "text": [
      "\n",
      "Reading outputs from /workspace/data/group_share/data_graphene_ase/deform/lmp_output.dat ...\n",
      "  so far read 50 images ...\n",
      "  so far read 100 images ...\n",
      "  so far read 150 images ...\n",
      "  so far read 200 images ...\n",
      "  so far read 250 images ...\n",
      "  Finish reading outputs from total 300 images.\n",
      "\n"
     ]
    }
   ],
   "source": [
    "output_file = '/workspace/data/group_share/data_graphene_ase/deform/lmp_output.dat'\n",
    "\n",
    "grdata.read_outputdata(filename=output_file)"
   ]
  },
  {
   "cell_type": "code",
   "execution_count": 6,
   "metadata": {},
   "outputs": [
    {
     "name": "stdout",
     "output_type": "stream",
     "text": [
      "\n",
      "Reading outputs from /workspace/data/group_share/data_graphene_ase/move/lmp_output.dat ...\n",
      "  so far read 350 images ...\n",
      "  so far read 400 images ...\n",
      "  so far read 450 images ...\n",
      "  so far read 500 images ...\n",
      "  so far read 550 images ...\n",
      "  so far read 600 images ...\n",
      "  so far read 650 images ...\n",
      "  so far read 700 images ...\n",
      "  so far read 750 images ...\n",
      "  so far read 800 images ...\n",
      "  so far read 850 images ...\n",
      "  Finish reading outputs from total 900 images.\n",
      "\n"
     ]
    }
   ],
   "source": [
    "output_file = '/workspace/data/group_share/data_graphene_ase/move/lmp_output.dat'\n",
    "\n",
    "grdata.read_outputdata(filename=output_file,append=True)"
   ]
  },
  {
   "cell_type": "markdown",
   "metadata": {},
   "source": [
    "# Create tensorflow dataset for training"
   ]
  },
  {
   "cell_type": "code",
   "execution_count": 7,
   "metadata": {},
   "outputs": [
    {
     "name": "stdout",
     "output_type": "stream",
     "text": [
      "Conversion may take a while ...\n"
     ]
    },
    {
     "name": "stderr",
     "output_type": "stream",
     "text": [
      "2021-10-07 02:31:19.727665: I tensorflow/core/common_runtime/gpu/gpu_device.cc:1510] Created device /job:localhost/replica:0/task:0/device:GPU:0 with 9673 MB memory:  -> device: 0, name: NVIDIA GeForce RTX 2080 Ti, pci bus id: 0000:19:00.0, compute capability: 7.5\n",
      "2021-10-07 02:31:19.728748: I tensorflow/core/common_runtime/gpu/gpu_device.cc:1510] Created device /job:localhost/replica:0/task:0/device:GPU:1 with 9673 MB memory:  -> device: 1, name: NVIDIA GeForce RTX 2080 Ti, pci bus id: 0000:1a:00.0, compute capability: 7.5\n",
      "2021-10-07 02:31:19.729570: I tensorflow/core/common_runtime/gpu/gpu_device.cc:1510] Created device /job:localhost/replica:0/task:0/device:GPU:2 with 9673 MB memory:  -> device: 2, name: NVIDIA GeForce RTX 2080 Ti, pci bus id: 0000:67:00.0, compute capability: 7.5\n",
      "2021-10-07 02:31:19.730386: I tensorflow/core/common_runtime/gpu/gpu_device.cc:1510] Created device /job:localhost/replica:0/task:0/device:GPU:3 with 9673 MB memory:  -> device: 3, name: NVIDIA GeForce RTX 2080 Ti, pci bus id: 0000:68:00.0, compute capability: 7.5\n"
     ]
    },
    {
     "name": "stdout",
     "output_type": "stream",
     "text": [
      "It took 69.3440 second.\n"
     ]
    }
   ],
   "source": [
    "# convert data to tensors\n",
    "grdata.convert_data_to_tensor()"
   ]
  },
  {
   "cell_type": "code",
   "execution_count": 8,
   "metadata": {},
   "outputs": [],
   "source": [
    "tf_dataset = tf.data.Dataset.from_tensor_slices((grdata.input_dict,grdata.output_dict))"
   ]
  },
  {
   "cell_type": "code",
   "execution_count": 9,
   "metadata": {},
   "outputs": [
    {
     "name": "stderr",
     "output_type": "stream",
     "text": [
      "2021-10-07 02:32:57.012530: I tensorflow/compiler/mlir/mlir_graph_optimization_pass.cc:185] None of the MLIR Optimization Passes are enabled (registered 2)\n"
     ]
    }
   ],
   "source": [
    "tf.data.experimental.save(tf_dataset, '/workspace/data/group_share/graphene_tfdataset')"
   ]
  }
 ],
 "metadata": {
  "celltoolbar": "Raw Cell Format",
  "hide_input": false,
  "kernelspec": {
   "display_name": "Python 3 (ipykernel)",
   "language": "python",
   "name": "python3"
  },
  "language_info": {
   "codemirror_mode": {
    "name": "ipython",
    "version": 3
   },
   "file_extension": ".py",
   "mimetype": "text/x-python",
   "name": "python",
   "nbconvert_exporter": "python",
   "pygments_lexer": "ipython3",
   "version": "3.8.10"
  },
  "latex_envs": {
   "LaTeX_envs_menu_present": true,
   "autoclose": false,
   "autocomplete": true,
   "bibliofile": "biblio.bib",
   "cite_by": "apalike",
   "current_citInitial": 1,
   "eqLabelWithNumbers": true,
   "eqNumInitial": 1,
   "hotkeys": {
    "equation": "Ctrl-E",
    "itemize": "Ctrl-I"
   },
   "labels_anchors": false,
   "latex_user_defs": false,
   "report_style_numbering": false,
   "user_envs_cfg": false
  },
  "toc": {
   "base_numbering": 1,
   "nav_menu": {},
   "number_sections": false,
   "sideBar": true,
   "skip_h1_title": false,
   "title_cell": "Table of Contents",
   "title_sidebar": "Contents",
   "toc_cell": false,
   "toc_position": {},
   "toc_section_display": true,
   "toc_window_display": false
  },
  "varInspector": {
   "cols": {
    "lenName": 16,
    "lenType": 16,
    "lenVar": 40
   },
   "kernels_config": {
    "python": {
     "delete_cmd_postfix": "",
     "delete_cmd_prefix": "del ",
     "library": "var_list.py",
     "varRefreshCmd": "print(var_dic_list())"
    },
    "r": {
     "delete_cmd_postfix": ") ",
     "delete_cmd_prefix": "rm(",
     "library": "var_list.r",
     "varRefreshCmd": "cat(var_dic_list()) "
    }
   },
   "types_to_exclude": [
    "module",
    "function",
    "builtin_function_or_method",
    "instance",
    "_Feature"
   ],
   "window_display": false
  }
 },
 "nbformat": 4,
 "nbformat_minor": 4
}
