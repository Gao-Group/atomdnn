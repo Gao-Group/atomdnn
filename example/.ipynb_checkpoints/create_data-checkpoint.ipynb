{
 "cells": [
  {
   "cell_type": "code",
   "execution_count": 1,
   "metadata": {},
   "outputs": [],
   "source": [
    "from ase.optimize.fire import FIRE\n",
    "\n",
    "from ase.optimize import BFGS\n",
    "from ase.optimize import MDMin\n",
    "from ase.optimize.sciopt import SciPyFminBFGS, SciPyFminCG\n",
    "\n",
    "from ase import *\n",
    "from ase.io import read,write\n",
    "from ase.io.extxyz import write_extxyz\n",
    "import os\n",
    "import sys\n",
    "import numpy as np\n",
    "\n",
    "from ase.stressbox import stressbox\n",
    "import pdb\n",
    "from pprint import pprint\n",
    "from ase.calculators.lammpsrun import LAMMPS\n",
    "from ase import units\n",
    "import math\n",
    "import pickle\n",
    "import random\n",
    "\n",
    "\n",
    "import matplotlib.pyplot as plt\n",
    "import matplotlib\n",
    "from scipy.interpolate import interp1d \n",
    "from scipy.interpolate import pchip\n",
    "\n",
    "# set up plot font size\n",
    "matplotlib.rc('legend', fontsize=14) \n",
    "matplotlib.rc('xtick', labelsize=18) \n",
    "matplotlib.rc('ytick', labelsize=18) \n",
    "matplotlib.rc('axes', labelsize=18) \n",
    "matplotlib.rc('figure', titlesize=18)"
   ]
  },
  {
   "cell_type": "code",
   "execution_count": 2,
   "metadata": {},
   "outputs": [
    {
     "name": "stderr",
     "output_type": "stream",
     "text": [
      "/opt/ase-3.19.0-Gao/ase/calculators/lammpsrun.py:190: UserWarning: You are using an old syntax to set 'parameters'.\n",
      "Please use LAMMPSRUN.set().\n",
      "  warnings.warn(self.legacy_warn_string.format(\"parameters\"))\n"
     ]
    }
   ],
   "source": [
    "# parameter converted from the reference \n",
    "parameters = { 'units' : 'metal', \n",
    "               'atom_style':'atomic',\n",
    "               'dimension':'3',\n",
    "               'boundary': 'p p p', \n",
    "               'pair_style': 'rebo',\n",
    "               'pair_coeff': ['* * /mnt/Github/lammps-3Mar20-atomdnn/potentials/CH.rebo C']}\n",
    "\n",
    "lmp_calc=LAMMPS(parameters=parameters)"
   ]
  },
  {
   "cell_type": "markdown",
   "metadata": {},
   "source": [
    "# Random move atoms "
   ]
  },
  {
   "cell_type": "code",
   "execution_count": 3,
   "metadata": {},
   "outputs": [],
   "source": [
    "fd = 1 # starting file id \n",
    "patom = read('data_graphene_4atoms',format='lammps-data',style=\"atomic\")\n",
    "cell = patom.get_cell()\n",
    "\n",
    "stress = []\n",
    "pe = []\n",
    "force = []"
   ]
  },
  {
   "cell_type": "code",
   "execution_count": 4,
   "metadata": {},
   "outputs": [],
   "source": [
    "# move atoms randomly at different strains\n",
    "# set strain_x and strain_y to 0, 0.05, 0.1, 0.15, 0.2, 0.25\n",
    "\n",
    "strain_x = 0\n",
    "strain_y = 0\n",
    "random_move = 0.1\n",
    "nmove = 50\n",
    "\n",
    "patom_deform = patom.copy()\n",
    "deformed_cell = cell.copy()\n",
    "\n",
    "deformed_cell[0][0] = cell[0][0] * (1 + strain_x)\n",
    "deformed_cell[1][1] = cell[1][1] * (1 + strain_y)\n",
    "patom_deform.set_cell(deformed_cell, scale_atoms=True)\n",
    "positions = patom_deform.get_positions()\n",
    "positions[:,2] = 15\n",
    "new_positions = np.zeros((len(positions),3))\n",
    "\n",
    "patom_move = patom_deform.copy()\n",
    "patom_move.set_calculator(lmp_calc)\n",
    "\n",
    "for n in range(nmove):\n",
    "    for i in range(len(positions)):\n",
    "        for j in range(3):\n",
    "            delta = random.random()*random_move\n",
    "            pos_or_neg = random.choice((-1, 1))\n",
    "            new_positions[i][j] = positions[i][j] + delta* pos_or_neg\n",
    "    patom_move.set_positions(new_positions)\n",
    "    pe.append(patom_move.get_potential_energy())\n",
    "    ase_stress = patom_move.get_stress()\n",
    "\n",
    "    temp = ase_stress[3]  # switch stress yz and xy\n",
    "    ase_stress[3] = ase_stress[5]\n",
    "    ase_stress[5] = temp\n",
    "    \n",
    "    stress.append(ase_stress/units.GPa)\n",
    "    force.append(patom_move.get_forces())\n",
    "    #write(\"move/data_move.\"+str(fd),patom_move, format='lammps-data',atom_style='atomic')\n",
    "    write_extxyz(\"move/example_extxyz.\"+str(fd),patom_move)\n",
    "    fd += 1"
   ]
  },
  {
   "cell_type": "code",
   "execution_count": 14,
   "metadata": {},
   "outputs": [],
   "source": [
    "# write pe, force and stress\n",
    "fname ='move/lmp_output.dat'\n",
    "nfile = 4000\n",
    "file = open(fname,'w')\n",
    "for i in range(nfile):\n",
    "    file.writelines('image_id\\n')\n",
    "    file.writelines(str(i+1)+'\\n')\n",
    "    file.writelines('potential_energy\\n')\n",
    "    file.writelines('%.8e\\n'%pe[i])\n",
    "    file.writelines('pxx  pyy  pzz  pxy  pxz  pyz\\n')\n",
    "    file.writelines('   '.join(['%.8e' % stress[i][j] for j in range(6)]) + '\\n')\n",
    "    \n",
    "    file.writelines('atom_id   fx  fy  fz\\n')\n",
    "    for j in range(len(force[i])):\n",
    "        msg = str(j+1) + '   ' + '   '.join(['%.8e' % force[i][j][k] for k in range(3)]) + '\\n'\n",
    "        file.writelines(msg)\n",
    "file.close()"
   ]
  },
  {
   "cell_type": "markdown",
   "metadata": {},
   "source": [
    "# deform cell"
   ]
  },
  {
   "cell_type": "code",
   "execution_count": null,
   "metadata": {},
   "outputs": [],
   "source": [
    "patom = read('data_graphene_24atoms_compressed',format='lammps-data',style=\"atomic\")\n",
    "\n",
    "cell = patom.get_cell()\n",
    "for i in range(len(cell)):\n",
    "    print(cell[i])\n",
    "    \n",
    "positions = patom.get_positions()\n",
    "positions[:,2] = 15\n",
    "fd = 1\n",
    "pe = []\n",
    "stress = []\n",
    "force = []\n",
    "patom_deform = patom.copy()\n",
    "patom_deform.set_calculator(lmp_calc)\n",
    "deformed_cell = cell.copy()\n",
    "dstrain_x = 0.02\n",
    "dstrain_y = 0.02"
   ]
  },
  {
   "cell_type": "code",
   "execution_count": null,
   "metadata": {},
   "outputs": [],
   "source": [
    "xloop = list(range(20))\n",
    "yloop = list(range(15))\n",
    "\n",
    "for i in xloop:\n",
    "    deformed_cell[0][0] = cell[0][0] * (1 + dstrain_x * i)\n",
    "    for j in yloop:   \n",
    "        deformed_cell[1][1] = cell[1][1] * (1 + dstrain_y * j)\n",
    "        patom_deform.set_cell(deformed_cell, scale_atoms=True)\n",
    "        dyn = FIRE(patom_deform)\n",
    "        dyn.run(fmax=0.001,steps=10000)\n",
    "        pe.append(patom_deform.get_potential_energy())\n",
    "        ase_stress = patom_deform.get_stress()\n",
    "\n",
    "        temp = ase_stress[3]  # switch stress yz and xy\n",
    "        ase_stress[3] = ase_stress[5]\n",
    "        ase_stress[5] = temp\n",
    "        \n",
    "        stress.append(ase_stress/units.GPa)\n",
    "        force.append(patom_deform.get_forces())\n",
    "        write(\"deform/data_deform.\"+str(fd),patom_deform, format='lammps-data',atom_style='atomic')\n",
    "        fd += 1"
   ]
  },
  {
   "cell_type": "code",
   "execution_count": null,
   "metadata": {},
   "outputs": [],
   "source": [
    "nimage=300\n",
    "fname ='deform/lmp_output.dat'\n",
    "file = open(fname,'w')\n",
    "for i in range(nimage):\n",
    "    file.writelines('image_id\\n')\n",
    "    file.writelines(str(i+1)+'\\n')\n",
    "    file.writelines('potential_energy\\n')\n",
    "    file.writelines('%.8e\\n'%pe[i])\n",
    "    file.writelines('pxx  pyy  pzz  pxy  pxz  pyz\\n')\n",
    "    file.writelines('   '.join(['%.8e' % stress[i][j] for j in range(6)]) + '\\n')\n",
    "    \n",
    "    file.writelines('atom_id   fx  fy  fz\\n')\n",
    "    for j in range(len(force[i])):\n",
    "        msg = str(j+1) + '   ' + '   '.join(['%.8e' % force[i][j][k] for k in range(3)]) + '\\n'\n",
    "        file.writelines(msg)\n",
    "file.close()"
   ]
  },
  {
   "cell_type": "code",
   "execution_count": null,
   "metadata": {},
   "outputs": [],
   "source": []
  }
 ],
 "metadata": {
  "kernelspec": {
   "display_name": "Python 3",
   "language": "python",
   "name": "python3"
  },
  "language_info": {
   "codemirror_mode": {
    "name": "ipython",
    "version": 3
   },
   "file_extension": ".py",
   "mimetype": "text/x-python",
   "name": "python",
   "nbconvert_exporter": "python",
   "pygments_lexer": "ipython3",
   "version": "3.6.9"
  },
  "latex_envs": {
   "LaTeX_envs_menu_present": true,
   "autoclose": false,
   "autocomplete": true,
   "bibliofile": "biblio.bib",
   "cite_by": "apalike",
   "current_citInitial": 1,
   "eqLabelWithNumbers": true,
   "eqNumInitial": 1,
   "hotkeys": {
    "equation": "Ctrl-E",
    "itemize": "Ctrl-I"
   },
   "labels_anchors": false,
   "latex_user_defs": false,
   "report_style_numbering": false,
   "user_envs_cfg": false
  },
  "toc": {
   "base_numbering": 1,
   "nav_menu": {},
   "number_sections": true,
   "sideBar": true,
   "skip_h1_title": false,
   "title_cell": "Table of Contents",
   "title_sidebar": "Contents",
   "toc_cell": false,
   "toc_position": {},
   "toc_section_display": true,
   "toc_window_display": false
  },
  "varInspector": {
   "cols": {
    "lenName": 16,
    "lenType": 16,
    "lenVar": 40
   },
   "kernels_config": {
    "python": {
     "delete_cmd_postfix": "",
     "delete_cmd_prefix": "del ",
     "library": "var_list.py",
     "varRefreshCmd": "print(var_dic_list())"
    },
    "r": {
     "delete_cmd_postfix": ") ",
     "delete_cmd_prefix": "rm(",
     "library": "var_list.r",
     "varRefreshCmd": "cat(var_dic_list()) "
    }
   },
   "types_to_exclude": [
    "module",
    "function",
    "builtin_function_or_method",
    "instance",
    "_Feature"
   ],
   "window_display": false
  }
 },
 "nbformat": 4,
 "nbformat_minor": 4
}
