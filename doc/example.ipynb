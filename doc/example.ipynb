{
 "cells": [
  {
   "cell_type": "markdown",
   "metadata": {},
   "source": [
    "# An Example\n",
    "\n",
    "This example demonstrates the process of loading dataset, training, evaluation and prediction, using an exemplary dataset. The dataset contains 500 graphene structures that are generated using Rebo potential. The code has been run with Tensorflow 2.6."
   ]
  },
  {
   "cell_type": "code",
   "execution_count": 1,
   "metadata": {},
   "outputs": [],
   "source": [
    "import atomdnn\n",
    "\n",
    "# 'float64' is used for reading data and train by default\n",
    "atomdnn.data_type = 'float64'\n",
    "\n",
    "# force and stress are evaluated by default, \n",
    "# if one only need to compute potential energy, then set compute_force to false\n",
    "atomdnn.compute_force = True\n",
    "\n",
    "# default value is for converting ev/A^3 to GPa\n",
    "# note that: the predicted positive stress means tension and negative stress means compression\n",
    "stress_unit_convert = 160.2176 \n",
    "\n",
    "import numpy as np\n",
    "import tensorflow as tf\n",
    "from atomdnn import data\n",
    "from atomdnn import network\n",
    "from atomdnn.data import Data\n",
    "from atomdnn.data import *\n",
    "from atomdnn.network import Network"
   ]
  },
  {
   "cell_type": "code",
   "execution_count": 2,
   "metadata": {},
   "outputs": [
    {
     "name": "stderr",
     "output_type": "stream",
     "text": [
      "2021-10-18 20:31:02.889041: I tensorflow/core/common_runtime/gpu/gpu_device.cc:1510] Created device /job:localhost/replica:0/task:0/device:GPU:0 with 9673 MB memory:  -> device: 0, name: NVIDIA GeForce RTX 2080 Ti, pci bus id: 0000:19:00.0, compute capability: 7.5\n",
      "2021-10-18 20:31:02.890232: I tensorflow/core/common_runtime/gpu/gpu_device.cc:1510] Created device /job:localhost/replica:0/task:0/device:GPU:1 with 9673 MB memory:  -> device: 1, name: NVIDIA GeForce RTX 2080 Ti, pci bus id: 0000:1a:00.0, compute capability: 7.5\n"
     ]
    }
   ],
   "source": [
    "# load tensorflow dataset, for Tensorflow version lower than 2.6, need to specify element_spec.\n",
    "# The process of reading data and creating dataset is discussed in 'Data pipeline' section.\n",
    "\n",
    "dataset = tf.data.experimental.load('example_tfdataset')"
   ]
  },
  {
   "cell_type": "code",
   "execution_count": 3,
   "metadata": {},
   "outputs": [
    {
     "name": "stdout",
     "output_type": "stream",
     "text": [
      "Traning data: 350 images\n",
      "Validation data: 100 images\n",
      "Test data: 50 images\n"
     ]
    }
   ],
   "source": [
    "# split the data to training, validation and testing sets\n",
    "\n",
    "train_dataset, val_dataset, test_dataset = split_dataset(dataset,0.7,0.2,0.1,shuffle=True)"
   ]
  },
  {
   "cell_type": "code",
   "execution_count": 4,
   "metadata": {},
   "outputs": [],
   "source": [
    "# Build the network\n",
    "# See section 'Training' for detailed description on Network object.\n",
    "\n",
    "elements = ['C']\n",
    "act_fun = 'relu' # activation function\n",
    "nfp = get_fingerprints_num(dataset) # number of fingerprints (or descriptors)\n",
    "arch = [30,30] # NN layers\n",
    "\n",
    "model = Network(elements = elements,\\\n",
    "                num_fingerprints = nfp,\\\n",
    "                arch = arch,\\\n",
    "                activation_function = act_fun)"
   ]
  },
  {
   "cell_type": "code",
   "execution_count": 5,
   "metadata": {},
   "outputs": [
    {
     "name": "stderr",
     "output_type": "stream",
     "text": [
      "2021-10-18 20:31:03.029728: I tensorflow/compiler/mlir/mlir_graph_optimization_pass.cc:185] None of the MLIR Optimization Passes are enabled (registered 2)\n"
     ]
    },
    {
     "name": "stdout",
     "output_type": "stream",
     "text": [
      "Forces are used for training.\n",
      "Stresses are used for training.\n",
      "Scaling factors are computed using training dataset.\n",
      "Training dataset are standardized.\n",
      "Validation dataset are standardized.\n",
      "Training dataset will be shuffled during training.\n",
      "\n",
      "===> Epoch 1/30 - 3.006s/epoch\n",
      "     training_loss    - pe_loss: 134.844 - force_loss: 1004.789 - stress_loss: 33103.327 - total_loss: 4449.965\n",
      "     validation_loss  - pe_loss: 132.699 - force_loss: 870.057 - stress_loss: 35755.177 - total_loss: 4578.274\n",
      "\n",
      "===> Epoch 2/30 - 0.980s/epoch\n",
      "     training_loss    - pe_loss: 60.050 - force_loss: 618.052 - stress_loss: 19700.988 - total_loss: 2648.201\n",
      "     validation_loss  - pe_loss: 37.173 - force_loss: 530.598 - stress_loss: 12692.530 - total_loss: 1837.024\n",
      "\n",
      "===> Epoch 3/30 - 0.987s/epoch\n",
      "     training_loss    - pe_loss: 54.029 - force_loss: 498.096 - stress_loss: 12022.176 - total_loss: 1754.343\n",
      "     validation_loss  - pe_loss: 43.944 - force_loss: 425.128 - stress_loss: 8721.768 - total_loss: 1341.249\n",
      "\n",
      "===> Epoch 4/30 - 0.953s/epoch\n",
      "     training_loss    - pe_loss: 32.535 - force_loss: 366.142 - stress_loss: 7754.167 - total_loss: 1174.094\n",
      "     validation_loss  - pe_loss: 41.318 - force_loss: 353.921 - stress_loss: 7543.578 - total_loss: 1149.597\n",
      "\n",
      "===> Epoch 5/30 - 0.966s/epoch\n",
      "     training_loss    - pe_loss: 22.914 - force_loss: 285.921 - stress_loss: 6071.896 - total_loss: 916.025\n",
      "     validation_loss  - pe_loss: 19.429 - force_loss: 276.627 - stress_loss: 4442.910 - total_loss: 740.347\n",
      "\n",
      "===> Epoch 6/30 - 0.995s/epoch\n",
      "     training_loss    - pe_loss: 15.836 - force_loss: 256.171 - stress_loss: 4988.697 - total_loss: 770.877\n",
      "     validation_loss  - pe_loss: 21.173 - force_loss: 249.121 - stress_loss: 3390.032 - total_loss: 609.297\n",
      "\n",
      "===> Epoch 7/30 - 0.986s/epoch\n",
      "     training_loss    - pe_loss: 12.422 - force_loss: 219.640 - stress_loss: 2972.093 - total_loss: 529.272\n",
      "     validation_loss  - pe_loss: 14.669 - force_loss: 244.600 - stress_loss: 2071.779 - total_loss: 466.447\n",
      "\n",
      "===> Epoch 8/30 - 0.983s/epoch\n",
      "     training_loss    - pe_loss: 11.902 - force_loss: 207.093 - stress_loss: 1951.386 - total_loss: 414.134\n",
      "     validation_loss  - pe_loss: 11.474 - force_loss: 210.456 - stress_loss: 1770.520 - total_loss: 398.982\n",
      "\n",
      "===> Epoch 9/30 - 1.031s/epoch\n",
      "     training_loss    - pe_loss: 9.254 - force_loss: 180.176 - stress_loss: 1367.830 - total_loss: 326.213\n",
      "     validation_loss  - pe_loss: 12.178 - force_loss: 181.719 - stress_loss: 1103.505 - total_loss: 304.248\n",
      "\n",
      "===> Epoch 10/30 - 1.014s/epoch\n",
      "     training_loss    - pe_loss: 9.588 - force_loss: 152.650 - stress_loss: 1072.628 - total_loss: 269.501\n",
      "     validation_loss  - pe_loss: 8.850 - force_loss: 161.032 - stress_loss: 981.914 - total_loss: 268.074\n",
      "\n",
      "===> Epoch 11/30 - 1.015s/epoch\n",
      "     training_loss    - pe_loss: 6.329 - force_loss: 135.697 - stress_loss: 905.882 - total_loss: 232.614\n",
      "     validation_loss  - pe_loss: 6.255 - force_loss: 130.501 - stress_loss: 964.043 - total_loss: 233.161\n",
      "\n",
      "===> Epoch 12/30 - 1.021s/epoch\n",
      "     training_loss    - pe_loss: 5.598 - force_loss: 124.365 - stress_loss: 719.449 - total_loss: 201.908\n",
      "     validation_loss  - pe_loss: 5.101 - force_loss: 128.388 - stress_loss: 372.892 - total_loss: 170.778\n",
      "\n",
      "===> Epoch 13/30 - 1.001s/epoch\n",
      "     training_loss    - pe_loss: 4.622 - force_loss: 109.219 - stress_loss: 457.331 - total_loss: 159.573\n",
      "     validation_loss  - pe_loss: 6.832 - force_loss: 114.560 - stress_loss: 365.681 - total_loss: 157.960\n",
      "\n",
      "===> Epoch 14/30 - 0.972s/epoch\n",
      "     training_loss    - pe_loss: 4.704 - force_loss: 101.927 - stress_loss: 352.252 - total_loss: 141.857\n",
      "     validation_loss  - pe_loss: 5.819 - force_loss: 108.582 - stress_loss: 302.824 - total_loss: 144.683\n",
      "\n",
      "===> Epoch 15/30 - 1.002s/epoch\n",
      "     training_loss    - pe_loss: 4.932 - force_loss: 94.882 - stress_loss: 307.193 - total_loss: 130.533\n",
      "     validation_loss  - pe_loss: 4.644 - force_loss: 103.635 - stress_loss: 336.712 - total_loss: 141.950\n",
      "\n",
      "===> Epoch 16/30 - 0.973s/epoch\n",
      "     training_loss    - pe_loss: 4.549 - force_loss: 89.100 - stress_loss: 377.243 - total_loss: 131.373\n",
      "     validation_loss  - pe_loss: 4.433 - force_loss: 100.626 - stress_loss: 720.879 - total_loss: 177.146\n",
      "\n",
      "===> Epoch 17/30 - 1.009s/epoch\n",
      "     training_loss    - pe_loss: 4.761 - force_loss: 84.798 - stress_loss: 527.072 - total_loss: 142.266\n",
      "     validation_loss  - pe_loss: 4.218 - force_loss: 90.872 - stress_loss: 470.202 - total_loss: 142.110\n",
      "\n",
      "===> Epoch 18/30 - 0.996s/epoch\n",
      "     training_loss    - pe_loss: 4.747 - force_loss: 80.423 - stress_loss: 354.610 - total_loss: 120.631\n",
      "     validation_loss  - pe_loss: 4.538 - force_loss: 84.095 - stress_loss: 136.947 - total_loss: 102.328\n",
      "\n",
      "===> Epoch 19/30 - 1.018s/epoch\n",
      "     training_loss    - pe_loss: 3.954 - force_loss: 76.124 - stress_loss: 192.496 - total_loss: 99.328\n",
      "     validation_loss  - pe_loss: 3.412 - force_loss: 78.872 - stress_loss: 274.993 - total_loss: 109.783\n",
      "\n",
      "===> Epoch 20/30 - 0.989s/epoch\n",
      "     training_loss    - pe_loss: 3.627 - force_loss: 71.625 - stress_loss: 244.228 - total_loss: 99.674\n",
      "     validation_loss  - pe_loss: 4.092 - force_loss: 76.716 - stress_loss: 369.107 - total_loss: 117.719\n",
      "\n",
      "===> Epoch 21/30 - 1.002s/epoch\n",
      "     training_loss    - pe_loss: 3.515 - force_loss: 71.658 - stress_loss: 249.996 - total_loss: 100.172\n",
      "     validation_loss  - pe_loss: 3.337 - force_loss: 74.265 - stress_loss: 246.763 - total_loss: 102.279\n",
      "\n",
      "===> Epoch 22/30 - 0.979s/epoch\n",
      "     training_loss    - pe_loss: 2.998 - force_loss: 66.612 - stress_loss: 280.904 - total_loss: 97.700\n",
      "     validation_loss  - pe_loss: 3.098 - force_loss: 72.461 - stress_loss: 390.082 - total_loss: 114.566\n",
      "\n",
      "===> Epoch 23/30 - 0.990s/epoch\n",
      "     training_loss    - pe_loss: 3.083 - force_loss: 62.778 - stress_loss: 361.756 - total_loss: 102.036\n",
      "     validation_loss  - pe_loss: 2.641 - force_loss: 64.369 - stress_loss: 391.023 - total_loss: 106.113\n",
      "\n",
      "===> Epoch 24/30 - 0.986s/epoch\n",
      "     training_loss    - pe_loss: 2.895 - force_loss: 58.777 - stress_loss: 227.036 - total_loss: 84.375\n",
      "     validation_loss  - pe_loss: 2.554 - force_loss: 62.471 - stress_loss: 220.116 - total_loss: 87.037\n",
      "\n",
      "===> Epoch 25/30 - 0.978s/epoch\n",
      "     training_loss    - pe_loss: 2.598 - force_loss: 59.545 - stress_loss: 234.587 - total_loss: 85.601\n",
      "     validation_loss  - pe_loss: 2.981 - force_loss: 57.077 - stress_loss: 233.831 - total_loss: 83.441\n",
      "\n",
      "===> Epoch 26/30 - 0.956s/epoch\n",
      "     training_loss    - pe_loss: 2.478 - force_loss: 53.972 - stress_loss: 229.821 - total_loss: 79.433\n",
      "     validation_loss  - pe_loss: 2.210 - force_loss: 55.809 - stress_loss: 166.329 - total_loss: 74.652\n",
      "\n",
      "===> Epoch 27/30 - 0.980s/epoch\n",
      "     training_loss    - pe_loss: 2.422 - force_loss: 50.991 - stress_loss: 180.365 - total_loss: 71.449\n",
      "     validation_loss  - pe_loss: 2.695 - force_loss: 56.004 - stress_loss: 153.831 - total_loss: 74.082\n",
      "\n",
      "===> Epoch 28/30 - 0.920s/epoch\n",
      "     training_loss    - pe_loss: 2.218 - force_loss: 47.893 - stress_loss: 176.871 - total_loss: 67.799\n",
      "     validation_loss  - pe_loss: 2.497 - force_loss: 48.270 - stress_loss: 173.421 - total_loss: 68.109\n",
      "\n",
      "===> Epoch 29/30 - 0.914s/epoch\n",
      "     training_loss    - pe_loss: 1.939 - force_loss: 48.382 - stress_loss: 244.135 - total_loss: 74.735\n",
      "     validation_loss  - pe_loss: 2.286 - force_loss: 49.501 - stress_loss: 267.031 - total_loss: 78.490\n",
      "\n",
      "===> Epoch 30/30 - 0.996s/epoch\n",
      "     training_loss    - pe_loss: 2.135 - force_loss: 46.279 - stress_loss: 201.665 - total_loss: 68.580\n",
      "     validation_loss  - pe_loss: 2.290 - force_loss: 54.182 - stress_loss: 136.409 - total_loss: 70.113\n",
      "\n",
      "End of training, elapsed time:  00:00:31\n"
     ]
    }
   ],
   "source": [
    "# Train the model \n",
    "\n",
    "opt = 'Adam' # optimizer\n",
    "loss_fun = 'rmse' # loss function\n",
    "scaling = 'std' # scaling the traning data with standardization\n",
    "lr = 0.02 # learning rate\n",
    "loss_weights = {'pe' : 1, 'force' : 1, 'stress': 0.1} # the weights in loss function\n",
    "\n",
    "model.train(train_dataset, val_dataset, \\\n",
    "            optimizer=opt, \\\n",
    "            loss_fun = loss_fun, \\\n",
    "            batch_size=30, \\\n",
    "            lr=lr, \\\n",
    "            epochs=30, \\\n",
    "            scaling=scaling, \\\n",
    "            loss_weights=loss_weights, \\\n",
    "            compute_all_loss=True, \\\n",
    "            shuffle=True, \\\n",
    "            append_loss=True)"
   ]
  },
  {
   "cell_type": "code",
   "execution_count": 6,
   "metadata": {},
   "outputs": [
    {
     "data": {
      "image/png": "[encoded data removed]",
      "text/plain": [
       "<Figure size 576x360 with 1 Axes>"
      ]
     },
     "metadata": {
      "needs_background": "light"
     },
     "output_type": "display_data"
    },
    {
     "data": {
      "image/png": "[encoded data removed]",
      "text/plain": [
       "<Figure size 576x360 with 1 Axes>"
      ]
     },
     "metadata": {
      "needs_background": "light"
     },
     "output_type": "display_data"
    },
    {
     "data": {
      "image/png": "[encoded data removed]",
      "text/plain": [
       "<Figure size 576x360 with 1 Axes>"
      ]
     },
     "metadata": {
      "needs_background": "light"
     },
     "output_type": "display_data"
    },
    {
     "data": {
      "image/png": "[encoded data removed]",
      "text/plain": [
       "<Figure size 576x360 with 1 Axes>"
      ]
     },
     "metadata": {
      "needs_background": "light"
     },
     "output_type": "display_data"
    }
   ],
   "source": [
    "# plot the training loss\n",
    "\n",
    "model.plot_loss(start_epoch=1)"
   ]
  },
  {
   "cell_type": "code",
   "execution_count": 7,
   "metadata": {},
   "outputs": [
    {
     "name": "stdout",
     "output_type": "stream",
     "text": [
      "Evaluation loss is:\n",
      "        pe_loss:       2.8502e+00\n",
      "     force_loss:       4.2136e+01\n",
      "    stress_loss:       2.1507e+02\n",
      "     total_loss:       6.6493e+01\n",
      "The total loss is computed using the loss weights - pe: 1.00 - force: 1.00 - stress: 0.10\n"
     ]
    }
   ],
   "source": [
    "# Evaluate using the first 5 data in test dataset\n",
    "\n",
    "model.evaluate(test_dataset.take(5),return_prediction=False)"
   ]
  },
  {
   "cell_type": "code",
   "execution_count": 8,
   "metadata": {},
   "outputs": [
    {
     "data": {
      "text/plain": [
       "{'pe': array([-33.64963295, -27.8340001 , -26.66213381, -26.70762979,\n",
       "        -26.77452191]),\n",
       " 'force': array([[[ 4.50301558e+01,  6.06689602e+01, -3.52306638e+01],\n",
       "         [-3.15401659e+01, -7.05534273e+00, -1.50324959e+01],\n",
       "         [-2.95257309e+01, -3.73839587e+01,  3.63325884e+01],\n",
       "         [ 1.60357403e+01, -1.62296587e+01,  1.39305712e+01]],\n",
       " \n",
       "        [[-1.37375488e+01, -5.44136970e+00,  1.38023897e+01],\n",
       "         [-4.40907017e+01, -3.89830207e+00,  8.54129938e+00],\n",
       "         [ 2.38128318e+01,  9.51667524e+00, -2.70369110e+01],\n",
       "         [ 3.40154190e+01, -1.77003087e-01,  4.69322193e+00]],\n",
       " \n",
       "        [[ 3.00973826e+01,  1.40044544e+01,  9.59020560e+01],\n",
       "         [-3.60568175e+01, -3.29374687e+01, -4.03512222e+01],\n",
       "         [ 4.26791480e+01,  3.83621441e+01,  1.46463503e+02],\n",
       "         [-3.67197135e+01, -1.94291288e+01, -2.02014337e+02]],\n",
       " \n",
       "        [[ 1.32694789e+01, -1.56755587e+01, -5.00440540e+01],\n",
       "         [-6.33947983e+01,  6.42386199e+01,  2.42734869e+00],\n",
       "         [ 4.85178533e+01, -4.22833385e+01, -3.55221790e+01],\n",
       "         [ 1.60746533e+00, -6.27972220e+00,  8.31388843e+01]],\n",
       " \n",
       "        [[ 1.01196617e+00,  5.11150677e+01,  1.37711340e+01],\n",
       "         [-4.51827214e+01, -8.31177848e+01,  4.00659694e+01],\n",
       "         [ 2.43087954e+01,  1.79812676e+01,  3.24174029e+01],\n",
       "         [ 1.98619594e+01,  1.40214486e+01, -8.62545063e+01]]]),\n",
       " 'stress': array([[ 6.03057056e+02, -1.02765525e+01, -1.19960503e+00,\n",
       "         -1.02765526e+01,  5.79638691e+02, -1.12872362e+00,\n",
       "         -1.19959881e+00, -1.12872466e+00,  4.84954310e-01],\n",
       "        [ 6.55644690e+02,  9.28783977e+00, -2.68225962e+00,\n",
       "          9.28783910e+00,  6.38670635e+02, -7.77406953e-01,\n",
       "         -2.68226196e+00, -7.77409798e-01,  2.08226098e+00],\n",
       "        [ 4.08281185e+01, -4.09362991e+00, -1.69122072e+00,\n",
       "         -4.09362751e+00, -1.85580110e+01, -2.38055393e+00,\n",
       "         -1.69121841e+00, -2.38056124e+00,  1.95214701e+00],\n",
       "        [-4.19380247e+02,  1.79933780e+01,  1.79596893e+00,\n",
       "          1.79933787e+01, -3.19060842e+02, -2.08221974e+00,\n",
       "          1.79597515e+00, -2.08222289e+00,  5.50952235e-01],\n",
       "        [-2.08451636e+02,  2.25760767e+01,  2.32835901e-02,\n",
       "          2.25760767e+01, -2.30754527e+02, -5.14901302e-01,\n",
       "          2.32873775e-02, -5.14894287e-01, -1.26831056e+00]])}"
      ]
     },
     "execution_count": 8,
     "metadata": {},
     "output_type": "execute_result"
    }
   ],
   "source": [
    "# prediction using the first 5 data in test dataset\n",
    "\n",
    "input_dict = get_input_dict(test_dataset.take(5))\n",
    "model.predict(input_dict)"
   ]
  },
  {
   "cell_type": "code",
   "execution_count": 9,
   "metadata": {},
   "outputs": [
    {
     "name": "stderr",
     "output_type": "stream",
     "text": [
      "2021-10-18 20:31:35.976341: W tensorflow/python/util/util.cc:348] Sets are not currently considered sequences, but this may change in the future, so consider avoiding using them.\n"
     ]
    },
    {
     "name": "stdout",
     "output_type": "stream",
     "text": [
      "INFO:tensorflow:Assets written to: example.tfdnn/assets\n",
      "Network signatures and descriptor are written to example.tfdnn/parameters for LAMMPS simulation.\n"
     ]
    }
   ],
   "source": [
    "# save the trained model\n",
    "\n",
    "descriptor = {'name': 'acsf', \n",
    "              'cutoff': 6.5001,\n",
    "              'etaG2':[0.01,0.025,0.05,0.075,0.1,0.15,0.2,0.3,0.4,0.5,0.6,0.8,1,1.5,2,3,5,10], \n",
    "              'etaG4': [0.01], \n",
    "              'zeta': [0.08,0.1,0.15,0.2,0.3,0.35,0.5,0.6,0.8,1.,1.5,2.,3.0,4.,5.5,7.0,10.0,25.0,50.0,100.0],\n",
    "              'lambda': [1.0, -1.0]}\n",
    "\n",
    "save_dir = 'example.tfdnn'\n",
    "network.save(model,save_dir,descriptor=descriptor)"
   ]
  },
  {
   "cell_type": "code",
   "execution_count": 11,
   "metadata": {},
   "outputs": [
    {
     "name": "stdout",
     "output_type": "stream",
     "text": [
      "Network has been inflated! self.built: True\n"
     ]
    }
   ],
   "source": [
    "# Load the saved model for continuous training and prediction\n",
    "\n",
    "imported_model = network.load(save_dir)"
   ]
  },
  {
   "cell_type": "code",
   "execution_count": 12,
   "metadata": {},
   "outputs": [
    {
     "name": "stdout",
     "output_type": "stream",
     "text": [
      "Forces are used for training.\n",
      "Stresses are used for training.\n",
      "Scaling factors are computed using training dataset.\n",
      "Training dataset are standardized.\n",
      "Validation dataset are standardized.\n",
      "Training dataset will be shuffled during training.\n",
      "\n",
      "===> Epoch 1/5 - 0.967s/epoch\n",
      "     training_loss    - pe_loss: 9.489 - force_loss: 69.691 - stress_loss: 1656.623 - total_loss: 244.841\n",
      "     validation_loss  - pe_loss: 9.228 - force_loss: 71.152 - stress_loss: 2252.832 - total_loss: 305.664\n",
      "\n",
      "===> Epoch 2/5 - 0.948s/epoch\n",
      "     training_loss    - pe_loss: 6.011 - force_loss: 53.358 - stress_loss: 901.348 - total_loss: 149.503\n",
      "     validation_loss  - pe_loss: 6.447 - force_loss: 51.585 - stress_loss: 831.016 - total_loss: 141.133\n",
      "\n",
      "===> Epoch 3/5 - 0.959s/epoch\n",
      "     training_loss    - pe_loss: 4.921 - force_loss: 48.135 - stress_loss: 650.544 - total_loss: 118.110\n",
      "     validation_loss  - pe_loss: 3.495 - force_loss: 42.631 - stress_loss: 487.420 - total_loss: 94.868\n",
      "\n",
      "===> Epoch 4/5 - 0.974s/epoch\n",
      "     training_loss    - pe_loss: 3.450 - force_loss: 39.494 - stress_loss: 484.970 - total_loss: 91.440\n",
      "     validation_loss  - pe_loss: 4.637 - force_loss: 37.164 - stress_loss: 388.907 - total_loss: 80.691\n",
      "\n",
      "===> Epoch 5/5 - 0.947s/epoch\n",
      "     training_loss    - pe_loss: 3.542 - force_loss: 35.309 - stress_loss: 445.345 - total_loss: 83.386\n",
      "     validation_loss  - pe_loss: 3.748 - force_loss: 36.049 - stress_loss: 400.660 - total_loss: 79.863\n",
      "\n",
      "End of training, elapsed time:  00:00:04\n"
     ]
    }
   ],
   "source": [
    "# Re-train the model \n",
    "\n",
    "loss_weights = {'pe' : 1, 'force' : 1, 'stress': 0.1}\n",
    "\n",
    "opt = 'Adam'\n",
    "loss_fun = 'rmse'\n",
    "scaling = 'std'\n",
    "\n",
    "model.train(train_dataset, val_dataset, \\\n",
    "            optimizer=opt, \\\n",
    "            loss_fun = loss_fun, \\\n",
    "            batch_size=30, \\\n",
    "            lr=0.02, \\\n",
    "            epochs=5, \\\n",
    "            scaling=scaling, \\\n",
    "            loss_weights=loss_weights, \\\n",
    "            compute_all_loss=True, \\\n",
    "            shuffle=True, \\\n",
    "            append_loss=True)"
   ]
  },
  {
   "cell_type": "code",
   "execution_count": 13,
   "metadata": {},
   "outputs": [
    {
     "name": "stdout",
     "output_type": "stream",
     "text": [
      "Evaluation loss is:\n",
      "        pe_loss:       2.8502e+00\n",
      "     force_loss:       4.2136e+01\n",
      "    stress_loss:       2.1507e+02\n",
      "     total_loss:       6.6493e+01\n",
      "The total loss is computed using the loss weights - pe: 1.00 - force: 1.00 - stress: 0.10\n"
     ]
    }
   ],
   "source": [
    "imported_model.evaluate(test_dataset.take(5),return_prediction=False)"
   ]
  },
  {
   "cell_type": "code",
   "execution_count": 14,
   "metadata": {},
   "outputs": [
    {
     "data": {
      "text/plain": [
       "{'pe': array([-33.64963295, -27.8340001 , -26.66213381, -26.70762979,\n",
       "        -26.77452191]),\n",
       " 'force': array([[[ 4.50301558e+01,  6.06689602e+01, -3.52306638e+01],\n",
       "         [-3.15401659e+01, -7.05534273e+00, -1.50324959e+01],\n",
       "         [-2.95257309e+01, -3.73839587e+01,  3.63325884e+01],\n",
       "         [ 1.60357403e+01, -1.62296587e+01,  1.39305712e+01]],\n",
       " \n",
       "        [[-1.37375488e+01, -5.44136970e+00,  1.38023897e+01],\n",
       "         [-4.40907017e+01, -3.89830207e+00,  8.54129938e+00],\n",
       "         [ 2.38128318e+01,  9.51667524e+00, -2.70369110e+01],\n",
       "         [ 3.40154190e+01, -1.77003087e-01,  4.69322193e+00]],\n",
       " \n",
       "        [[ 3.00973826e+01,  1.40044544e+01,  9.59020560e+01],\n",
       "         [-3.60568175e+01, -3.29374687e+01, -4.03512222e+01],\n",
       "         [ 4.26791480e+01,  3.83621441e+01,  1.46463503e+02],\n",
       "         [-3.67197135e+01, -1.94291288e+01, -2.02014337e+02]],\n",
       " \n",
       "        [[ 1.32694789e+01, -1.56755587e+01, -5.00440540e+01],\n",
       "         [-6.33947983e+01,  6.42386199e+01,  2.42734869e+00],\n",
       "         [ 4.85178533e+01, -4.22833385e+01, -3.55221790e+01],\n",
       "         [ 1.60746533e+00, -6.27972220e+00,  8.31388843e+01]],\n",
       " \n",
       "        [[ 1.01196617e+00,  5.11150677e+01,  1.37711340e+01],\n",
       "         [-4.51827214e+01, -8.31177848e+01,  4.00659694e+01],\n",
       "         [ 2.43087954e+01,  1.79812676e+01,  3.24174029e+01],\n",
       "         [ 1.98619594e+01,  1.40214486e+01, -8.62545063e+01]]]),\n",
       " 'stress': array([[ 6.03057056e+02, -1.02765525e+01, -1.19960503e+00,\n",
       "         -1.02765526e+01,  5.79638691e+02, -1.12872362e+00,\n",
       "         -1.19959881e+00, -1.12872466e+00,  4.84954310e-01],\n",
       "        [ 6.55644690e+02,  9.28783977e+00, -2.68225962e+00,\n",
       "          9.28783910e+00,  6.38670635e+02, -7.77406953e-01,\n",
       "         -2.68226196e+00, -7.77409798e-01,  2.08226098e+00],\n",
       "        [ 4.08281185e+01, -4.09362991e+00, -1.69122072e+00,\n",
       "         -4.09362751e+00, -1.85580110e+01, -2.38055393e+00,\n",
       "         -1.69121841e+00, -2.38056124e+00,  1.95214701e+00],\n",
       "        [-4.19380247e+02,  1.79933780e+01,  1.79596893e+00,\n",
       "          1.79933787e+01, -3.19060842e+02, -2.08221974e+00,\n",
       "          1.79597515e+00, -2.08222289e+00,  5.50952235e-01],\n",
       "        [-2.08451636e+02,  2.25760767e+01,  2.32835901e-02,\n",
       "          2.25760767e+01, -2.30754527e+02, -5.14901302e-01,\n",
       "          2.32873775e-02, -5.14894287e-01, -1.26831056e+00]])}"
      ]
     },
     "execution_count": 14,
     "metadata": {},
     "output_type": "execute_result"
    }
   ],
   "source": [
    "input_dict = get_input_dict(test_dataset.take(5))\n",
    "imported_model.predict(input_dict)"
   ]
  }
 ],
 "metadata": {
  "celltoolbar": "Raw Cell Format",
  "kernelspec": {
   "display_name": "Python 3 (ipykernel)",
   "language": "python",
   "name": "python3"
  },
  "language_info": {
   "codemirror_mode": {
    "name": "ipython",
    "version": 3
   },
   "file_extension": ".py",
   "mimetype": "text/x-python",
   "name": "python",
   "nbconvert_exporter": "python",
   "pygments_lexer": "ipython3",
   "version": "3.8.10"
  },
  "latex_envs": {
   "LaTeX_envs_menu_present": true,
   "autoclose": false,
   "autocomplete": true,
   "bibliofile": "biblio.bib",
   "cite_by": "apalike",
   "current_citInitial": 1,
   "eqLabelWithNumbers": true,
   "eqNumInitial": 1,
   "hotkeys": {
    "equation": "Ctrl-E",
    "itemize": "Ctrl-I"
   },
   "labels_anchors": false,
   "latex_user_defs": false,
   "report_style_numbering": false,
   "user_envs_cfg": false
  },
  "toc": {
   "base_numbering": 1,
   "nav_menu": {},
   "number_sections": false,
   "sideBar": true,
   "skip_h1_title": false,
   "title_cell": "Table of Contents",
   "title_sidebar": "Contents",
   "toc_cell": false,
   "toc_position": {},
   "toc_section_display": true,
   "toc_window_display": false
  },
  "varInspector": {
   "cols": {
    "lenName": 16,
    "lenType": 16,
    "lenVar": 40
   },
   "kernels_config": {
    "python": {
     "delete_cmd_postfix": "",
     "delete_cmd_prefix": "del ",
     "library": "var_list.py",
     "varRefreshCmd": "print(var_dic_list())"
    },
    "r": {
     "delete_cmd_postfix": ") ",
     "delete_cmd_prefix": "rm(",
     "library": "var_list.r",
     "varRefreshCmd": "cat(var_dic_list()) "
    }
   },
   "types_to_exclude": [
    "module",
    "function",
    "builtin_function_or_method",
    "instance",
    "_Feature"
   ],
   "window_display": false
  }
 },
 "nbformat": 4,
 "nbformat_minor": 4
}
